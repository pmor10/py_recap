{
 "cells": [
  {
   "cell_type": "code",
   "execution_count": 25,
   "metadata": {},
   "outputs": [],
   "source": [
    "class NameOfClass():\n",
    "    \n",
    "    def __init__(self, param1, param2):\n",
    "        self.param1 = param1\n",
    "        self.param2 = param2\n",
    "        \n",
    "    def some_method(self):\n",
    "        print(self.param1)\n",
    "\n",
    "        "
   ]
  },
  {
   "cell_type": "code",
   "execution_count": 26,
   "metadata": {},
   "outputs": [
    {
     "name": "stdout",
     "output_type": "stream",
     "text": [
      "<class '__main__.Sample'>\n"
     ]
    }
   ],
   "source": [
    "class Sample():\n",
    "    pass\n",
    "\n",
    "x = Sample()\n",
    "print(type(x))"
   ]
  },
  {
   "cell_type": "code",
   "execution_count": 27,
   "metadata": {},
   "outputs": [
    {
     "name": "stdout",
     "output_type": "stream",
     "text": [
      "Sammy\n",
      "Huskie\n",
      "mammal\n"
     ]
    }
   ],
   "source": [
    "class Dog():\n",
    "    \n",
    "    # class obj attributes\n",
    "    species = 'mammal'\n",
    "    \n",
    "    def __init__(self, breed, name):\n",
    "        \n",
    "        self.breed = breed\n",
    "        self.name = name\n",
    "\n",
    "sam = Dog('Huskie', 'Sammy')\n",
    "\n",
    "print(sam.name)\n",
    "print(sam.breed)\n",
    "print(sam.species)\n",
    "\n"
   ]
  },
  {
   "cell_type": "code",
   "execution_count": 28,
   "metadata": {},
   "outputs": [
    {
     "name": "stdout",
     "output_type": "stream",
     "text": [
      "5\n",
      "78.5\n",
      "31.400000000000002\n"
     ]
    }
   ],
   "source": [
    "class Circle():\n",
    "    \n",
    "    pi = 3.14\n",
    "    \n",
    "    def __init__(self, radius=1):\n",
    "        self.radius = radius\n",
    "        \n",
    "    def area(self):\n",
    "        return self.radius * self.radius * self.pi\n",
    "    \n",
    "    def circumfrence(self):\n",
    "        return 2 * self.pi * self.radius\n",
    "        \n",
    "mycircle = Circle(5)\n",
    "print(mycircle.radius)\n",
    "print(mycircle.area())\n",
    "print(mycircle.circumfrence())"
   ]
  },
  {
   "cell_type": "code",
   "execution_count": 29,
   "metadata": {},
   "outputs": [],
   "source": [
    "class Animal():\n",
    "    \n",
    "    def __init__(self, fur):\n",
    "        self.fur = fur        \n",
    "        \n",
    "    def report(self):\n",
    "        print('Animal')\n",
    "        \n",
    "    def eat(self):\n",
    "        print('Eating')\n",
    "        "
   ]
  },
  {
   "cell_type": "code",
   "execution_count": 21,
   "metadata": {},
   "outputs": [
    {
     "name": "stdout",
     "output_type": "stream",
     "text": [
      "Dog Created!\n",
      "Eating\n",
      "I'm a dog!\n",
      "Fuzzy\n"
     ]
    }
   ],
   "source": [
    "class Dog(Animal):\n",
    "    \n",
    "    def __init__(self, fur):\n",
    "        Animal.__init__(self, fur)\n",
    "        print('Dog Created!')\n",
    "        \n",
    "    def report(self):\n",
    "        print('I\\'m a dog!')\n",
    "        \n",
    "d = Dog('Fuzzy')\n",
    "d.eat()\n",
    "d.report()\n",
    "print(d.fur)"
   ]
  },
  {
   "cell_type": "code",
   "execution_count": 35,
   "metadata": {},
   "outputs": [
    {
     "name": "stdout",
     "output_type": "stream",
     "text": [
      "Cat Created!\n",
      "Eating\n",
      "I'm a cat!\n"
     ]
    }
   ],
   "source": [
    "class Cat(Animal):\n",
    "    \n",
    "    def __init__(self, fur):\n",
    "        Animal.__init__(self, fur)\n",
    "        print('Cat Created!')\n",
    "        \n",
    "    def report(self):\n",
    "        print('I\\'m a cat!')\n",
    "              \n",
    "c = Cat('Fizzy Fuzzy')\n",
    "c.eat()\n",
    "c.report()\n",
    "\n"
   ]
  },
  {
   "cell_type": "code",
   "execution_count": 44,
   "metadata": {},
   "outputs": [
    {
     "name": "stdout",
     "output_type": "stream",
     "text": [
      "Title: Python Rocks, Author: Jose\n",
      "250\n"
     ]
    }
   ],
   "source": [
    "class Book():\n",
    "    \n",
    "    def __init__(self, title, author, pages):\n",
    "        self.title = title\n",
    "        self.author = author\n",
    "        self.pages = pages\n",
    "        \n",
    "    def __repr__(self):\n",
    "        return f\"Title: {self.title}, Author: {self.author}\" #print out our own obj\n",
    "        \n",
    "    \n",
    "    def __len__(self):\n",
    "        \n",
    "        return self.pages\n",
    "        \n",
    "book1 = Book('Python Rocks', 'Jose', 250)\n",
    "print(book1)\n",
    "len_book = len(book1)\n",
    "print(len_book)"
   ]
  },
  {
   "cell_type": "code",
   "execution_count": 50,
   "metadata": {},
   "outputs": [
    {
     "name": "stdout",
     "output_type": "stream",
     "text": [
      "Owner: Jose, Balance: 100\n",
      "Deposit was accepted!\n",
      "Withdrawal Successful!\n",
      "Funds not available!\n"
     ]
    }
   ],
   "source": [
    "class Account:\n",
    "    \n",
    "    def __init__(self, owner, balance=0):\n",
    "        self.owner = owner\n",
    "        self.balance = balance\n",
    "        \n",
    "        \n",
    "    def __repr__(self):\n",
    "        return f\"Owner: {self.owner}, Balance: {self.balance}\"\n",
    "    \n",
    "    \n",
    "    def deposit(self, deposit):\n",
    "        self.balance += deposit\n",
    "        print(\"Deposit was accepted!\")\n",
    "    \n",
    "    \n",
    "    def withdrawl(self, withdrawl):\n",
    "        if self.balance >= withdrawl:\n",
    "            self.balance -= withdrawl\n",
    "            print(\"Withdrawal Successful!\")\n",
    "        \n",
    "        else:\n",
    "            print(\"Funds not available!\")\n",
    "            \n",
    "acct1 = Account('Jose', 100)\n",
    "print(acct1)\n",
    "\n",
    "acct1.owner\n",
    "acct1.balance\n",
    "acct1.deposit(50)\n",
    "acct1.withdrawl(75)\n",
    "acct1.withdrawl(500)"
   ]
  },
  {
   "cell_type": "code",
   "execution_count": null,
   "metadata": {},
   "outputs": [],
   "source": []
  }
 ],
 "metadata": {
  "kernelspec": {
   "display_name": "Python 3",
   "language": "python",
   "name": "python3"
  },
  "language_info": {
   "codemirror_mode": {
    "name": "ipython",
    "version": 3
   },
   "file_extension": ".py",
   "mimetype": "text/x-python",
   "name": "python",
   "nbconvert_exporter": "python",
   "pygments_lexer": "ipython3",
   "version": "3.7.4"
  }
 },
 "nbformat": 4,
 "nbformat_minor": 2
}
